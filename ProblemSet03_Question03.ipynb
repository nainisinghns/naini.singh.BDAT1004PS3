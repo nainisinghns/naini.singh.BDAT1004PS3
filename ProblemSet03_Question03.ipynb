{
 "cells": [
  {
   "cell_type": "code",
   "execution_count": 61,
   "id": "b5ba98d8",
   "metadata": {},
   "outputs": [],
   "source": [
    "import pandas as pd\n",
    "import numpy as np #This imports libraries pandas and numpy."
   ]
  },
  {
   "cell_type": "code",
   "execution_count": 62,
   "id": "5e33eab0",
   "metadata": {},
   "outputs": [],
   "source": [
    "#Now we generate three series with random numbers."
   ]
  },
  {
   "cell_type": "code",
   "execution_count": 63,
   "id": "cd10ac7c",
   "metadata": {},
   "outputs": [],
   "source": [
    "series1 = pd.Series(np.random.randint(1, 5, 100)) #Random integers from 1 to 4: length 100"
   ]
  },
  {
   "cell_type": "code",
   "execution_count": 64,
   "id": "3d032e79",
   "metadata": {},
   "outputs": [],
   "source": [
    "series2 = pd.Series(np.random.randint(1, 4, 100)) #Random integers from 1 to 3: length 100"
   ]
  },
  {
   "cell_type": "code",
   "execution_count": 65,
   "id": "c5873c74",
   "metadata": {},
   "outputs": [],
   "source": [
    "series3 = pd.Series(np.random.randint(10000, 30001, 100)) ##Random integers from 10000 to 30000: length 100"
   ]
  },
  {
   "cell_type": "code",
   "execution_count": 66,
   "id": "a401f7de",
   "metadata": {},
   "outputs": [],
   "source": [
    "#This verifies by displaying a few entries of each series proving they are generated correctly."
   ]
  },
  {
   "cell_type": "code",
   "execution_count": 67,
   "id": "b64cbdc7",
   "metadata": {},
   "outputs": [
    {
     "name": "stdout",
     "output_type": "stream",
     "text": [
      "Series 1:\n"
     ]
    }
   ],
   "source": [
    "print(\"Series 1:\")"
   ]
  },
  {
   "cell_type": "code",
   "execution_count": 68,
   "id": "3fd8da12",
   "metadata": {},
   "outputs": [
    {
     "name": "stdout",
     "output_type": "stream",
     "text": [
      "0    3\n",
      "1    2\n",
      "2    4\n",
      "3    1\n",
      "4    4\n",
      "dtype: int32\n"
     ]
    }
   ],
   "source": [
    "print(series1.head())"
   ]
  },
  {
   "cell_type": "code",
   "execution_count": 69,
   "id": "8a35995a",
   "metadata": {},
   "outputs": [
    {
     "name": "stdout",
     "output_type": "stream",
     "text": [
      "\n",
      "Series 2:\n"
     ]
    }
   ],
   "source": [
    "print(\"\\nSeries 2:\")"
   ]
  },
  {
   "cell_type": "code",
   "execution_count": 70,
   "id": "27d8f1a6",
   "metadata": {},
   "outputs": [
    {
     "name": "stdout",
     "output_type": "stream",
     "text": [
      "0    1\n",
      "1    1\n",
      "2    3\n",
      "3    2\n",
      "4    3\n",
      "dtype: int32\n"
     ]
    }
   ],
   "source": [
    "print(series2.head())"
   ]
  },
  {
   "cell_type": "code",
   "execution_count": 71,
   "id": "c4f836e6",
   "metadata": {},
   "outputs": [
    {
     "name": "stdout",
     "output_type": "stream",
     "text": [
      "\n",
      "Series 3:\n"
     ]
    }
   ],
   "source": [
    "print(\"\\nSeries 3:\")"
   ]
  },
  {
   "cell_type": "code",
   "execution_count": 72,
   "id": "c14b02c7",
   "metadata": {},
   "outputs": [
    {
     "name": "stdout",
     "output_type": "stream",
     "text": [
      "0    21551\n",
      "1    24637\n",
      "2    22968\n",
      "3    24506\n",
      "4    14578\n",
      "dtype: int32\n"
     ]
    }
   ],
   "source": [
    "print(series3.head())"
   ]
  },
  {
   "cell_type": "code",
   "execution_count": 73,
   "id": "4b1e4122",
   "metadata": {},
   "outputs": [],
   "source": [
    "df = pd.DataFrame({'bedrs': series1, 'bathrs': series2, 'price_sqr_meter': series3}) #Combines 3 series into the dataframe"
   ]
  },
  {
   "cell_type": "code",
   "execution_count": 74,
   "id": "82d7362c",
   "metadata": {},
   "outputs": [
    {
     "name": "stdout",
     "output_type": "stream",
     "text": [
      "Combined DataFrame:\n",
      "   bedrs  bathrs  price_sqr_meter\n",
      "0      3       1            21551\n",
      "1      2       1            24637\n",
      "2      4       3            22968\n",
      "3      1       2            24506\n",
      "4      4       3            14578\n"
     ]
    }
   ],
   "source": [
    "print(\"Combined DataFrame:\")\n",
    "print(df.head())  #Displays teh first few rows of the dataframe."
   ]
  },
  {
   "cell_type": "code",
   "execution_count": 75,
   "id": "a1f647b3",
   "metadata": {},
   "outputs": [],
   "source": [
    "bigcolumn = pd.concat([series1, series2, series3], axis=0).reset_index(drop=True) #Creating one column by concatenating the three series"
   ]
  },
  {
   "cell_type": "code",
   "execution_count": 76,
   "id": "835940b6",
   "metadata": {},
   "outputs": [
    {
     "name": "stdout",
     "output_type": "stream",
     "text": [
      "One-Column DataFrame:\n",
      "0    3\n",
      "1    2\n",
      "2    4\n",
      "3    1\n",
      "4    4\n",
      "dtype: int32\n"
     ]
    }
   ],
   "source": [
    "print(\"One-Column DataFrame:\")\n",
    "print(bigcolumn.head()) #Displays the first few rows of one column data frame"
   ]
  },
  {
   "cell_type": "code",
   "execution_count": 77,
   "id": "dc27d437",
   "metadata": {},
   "outputs": [
    {
     "name": "stdout",
     "output_type": "stream",
     "text": [
      "Length of bigcolumn: 300\n"
     ]
    }
   ],
   "source": [
    "print(\"Length of bigcolumn:\", len(bigcolumn)) #Checks the length of one-column dataframe."
   ]
  },
  {
   "cell_type": "code",
   "execution_count": 78,
   "id": "fb7a17da",
   "metadata": {},
   "outputs": [],
   "source": [
    "bigcolumn_reindexed = bigcolumn.reset_index(drop=True).reindex(range(300)) #This indexes dataframe"
   ]
  },
  {
   "cell_type": "code",
   "execution_count": 79,
   "id": "70cab4ff",
   "metadata": {},
   "outputs": [
    {
     "name": "stdout",
     "output_type": "stream",
     "text": [
      "Reindexed DataFrame:\n",
      "295    12980\n",
      "296    27473\n",
      "297    24632\n",
      "298    16069\n",
      "299    18147\n",
      "dtype: int32\n"
     ]
    }
   ],
   "source": [
    "print(\"Reindexed DataFrame:\")\n",
    "print(bigcolumn_reindexed.tail()) #Displays last few row of the reindexed dataframe"
   ]
  }
 ],
 "metadata": {
  "kernelspec": {
   "display_name": "Python 3 (ipykernel)",
   "language": "python",
   "name": "python3"
  },
  "language_info": {
   "codemirror_mode": {
    "name": "ipython",
    "version": 3
   },
   "file_extension": ".py",
   "mimetype": "text/x-python",
   "name": "python",
   "nbconvert_exporter": "python",
   "pygments_lexer": "ipython3",
   "version": "3.9.16"
  }
 },
 "nbformat": 4,
 "nbformat_minor": 5
}
