{
 "cells": [
  {
   "cell_type": "code",
   "execution_count": 242,
   "id": "5d833d4d",
   "metadata": {},
   "outputs": [],
   "source": [
    "import pandas as pd #Importing pandas libraries"
   ]
  },
  {
   "cell_type": "code",
   "execution_count": 243,
   "id": "f7b9aeed",
   "metadata": {},
   "outputs": [],
   "source": [
    "url = 'https://raw.githubusercontent.com/justmarkham/DAT8/master/data/chipotle.tsv' #URL of the dataset"
   ]
  },
  {
   "cell_type": "code",
   "execution_count": 244,
   "id": "d2ff475a",
   "metadata": {},
   "outputs": [],
   "source": [
    "chipo = pd.read_csv(url, sep='\\t') # Reads dataset into dataframe"
   ]
  },
  {
   "cell_type": "code",
   "execution_count": 245,
   "id": "e6367392",
   "metadata": {},
   "outputs": [
    {
     "name": "stdout",
     "output_type": "stream",
     "text": [
      "   order_id  quantity                              item_name  \\\n",
      "0         1         1           Chips and Fresh Tomato Salsa   \n",
      "1         1         1                                   Izze   \n",
      "2         1         1                       Nantucket Nectar   \n",
      "3         1         1  Chips and Tomatillo-Green Chili Salsa   \n",
      "4         2         2                           Chicken Bowl   \n",
      "\n",
      "                                  choice_description item_price  \n",
      "0                                                NaN     $2.39   \n",
      "1                                       [Clementine]     $3.39   \n",
      "2                                            [Apple]     $3.39   \n",
      "3                                                NaN     $2.39   \n",
      "4  [Tomatillo-Red Chili Salsa (Hot), [Black Beans...    $16.98   \n"
     ]
    }
   ],
   "source": [
    "print(chipo.head()) #Display the first few rows of dataset to prove it's loaded correctly"
   ]
  },
  {
   "cell_type": "code",
   "execution_count": 246,
   "id": "396ee378",
   "metadata": {},
   "outputs": [
    {
     "name": "stdout",
     "output_type": "stream",
     "text": [
      "   order_id  quantity                              item_name  \\\n",
      "0         1         1           Chips and Fresh Tomato Salsa   \n",
      "1         1         1                                   Izze   \n",
      "2         1         1                       Nantucket Nectar   \n",
      "3         1         1  Chips and Tomatillo-Green Chili Salsa   \n",
      "4         2         2                           Chicken Bowl   \n",
      "5         3         1                           Chicken Bowl   \n",
      "6         3         1                          Side of Chips   \n",
      "7         4         1                          Steak Burrito   \n",
      "8         4         1                       Steak Soft Tacos   \n",
      "9         5         1                          Steak Burrito   \n",
      "\n",
      "                                  choice_description item_price  \n",
      "0                                                NaN     $2.39   \n",
      "1                                       [Clementine]     $3.39   \n",
      "2                                            [Apple]     $3.39   \n",
      "3                                                NaN     $2.39   \n",
      "4  [Tomatillo-Red Chili Salsa (Hot), [Black Beans...    $16.98   \n",
      "5  [Fresh Tomato Salsa (Mild), [Rice, Cheese, Sou...    $10.98   \n",
      "6                                                NaN     $1.69   \n",
      "7  [Tomatillo Red Chili Salsa, [Fajita Vegetables...    $11.75   \n",
      "8  [Tomatillo Green Chili Salsa, [Pinto Beans, Ch...     $9.25   \n",
      "9  [Fresh Tomato Salsa, [Rice, Black Beans, Pinto...     $9.25   \n"
     ]
    }
   ],
   "source": [
    "print(chipo.head(10)) #This displays the first 10 rows of the dataset"
   ]
  },
  {
   "cell_type": "code",
   "execution_count": 247,
   "id": "ff15e60b",
   "metadata": {},
   "outputs": [],
   "source": [
    "num_observations = chipo.shape[0] #Sorting the number of rows in the dataset."
   ]
  },
  {
   "cell_type": "code",
   "execution_count": 248,
   "id": "1aa50ebf",
   "metadata": {},
   "outputs": [
    {
     "name": "stdout",
     "output_type": "stream",
     "text": [
      "The Number of observations in the dataset are: 4622\n"
     ]
    }
   ],
   "source": [
    "print(f\"The Number of observations in the dataset are: {num_observations}\") #This displays the result"
   ]
  },
  {
   "cell_type": "code",
   "execution_count": 249,
   "id": "0340a8bf",
   "metadata": {},
   "outputs": [],
   "source": [
    "num_columns = chipo.shape[1] #We get the number of columns in the dataset"
   ]
  },
  {
   "cell_type": "code",
   "execution_count": 250,
   "id": "071d26c9",
   "metadata": {},
   "outputs": [
    {
     "name": "stdout",
     "output_type": "stream",
     "text": [
      "Number of columns in the dataset: 5\n"
     ]
    }
   ],
   "source": [
    "print(f\"Number of columns in the dataset: {num_columns}\") #This displays the result"
   ]
  },
  {
   "cell_type": "code",
   "execution_count": 251,
   "id": "ad88e604",
   "metadata": {},
   "outputs": [
    {
     "name": "stdout",
     "output_type": "stream",
     "text": [
      " The Column names in the dataset are: Index(['order_id', 'quantity', 'item_name', 'choice_description',\n",
      "       'item_price'],\n",
      "      dtype='object')\n"
     ]
    }
   ],
   "source": [
    "print(f\" The Column names in the dataset are: {chipo.columns}\") #Displays the column name of the dataset"
   ]
  },
  {
   "cell_type": "code",
   "execution_count": 252,
   "id": "f8f3f9f7",
   "metadata": {},
   "outputs": [
    {
     "name": "stdout",
     "output_type": "stream",
     "text": [
      "Dataset Index: RangeIndex(start=0, stop=4622, step=1)\n"
     ]
    }
   ],
   "source": [
    "print(f\"Dataset Index: {chipo.index}\") #Displays the index of dataframe"
   ]
  },
  {
   "cell_type": "code",
   "execution_count": 253,
   "id": "bf2e5ce9",
   "metadata": {},
   "outputs": [],
   "source": [
    "most_ordered_item = chipo['item_name'].value_counts().idxmax() #This helps finding the most ordered item"
   ]
  },
  {
   "cell_type": "code",
   "execution_count": 254,
   "id": "69767f07",
   "metadata": {},
   "outputs": [
    {
     "name": "stdout",
     "output_type": "stream",
     "text": [
      "The most ordered item is: Chicken Bowl\n"
     ]
    }
   ],
   "source": [
    "print(f\"The most ordered item is: {most_ordered_item}\") #This displays the result"
   ]
  },
  {
   "cell_type": "code",
   "execution_count": 255,
   "id": "5de51e27",
   "metadata": {},
   "outputs": [],
   "source": [
    "most_ordered_quantity = chipo[chipo['item_name'] == most_ordered_item]['quantity'].sum() #Getting the total quantity of the most-ordered item"
   ]
  },
  {
   "cell_type": "code",
   "execution_count": 256,
   "id": "345f1aed",
   "metadata": {},
   "outputs": [
    {
     "name": "stdout",
     "output_type": "stream",
     "text": [
      "The Total quantity of 'Chicken Bowl' ordered is: 761\n"
     ]
    }
   ],
   "source": [
    "print(f\"The Total quantity of '{most_ordered_item}' ordered is: {most_ordered_quantity}\") #This displays the result"
   ]
  },
  {
   "cell_type": "code",
   "execution_count": 257,
   "id": "ec3fc788",
   "metadata": {},
   "outputs": [],
   "source": [
    "most_ordered_choice_description = chipo['choice_description'].value_counts().idxmax() #This finds the most-ordered item in the choice description column"
   ]
  },
  {
   "cell_type": "code",
   "execution_count": 258,
   "id": "855c3b9d",
   "metadata": {},
   "outputs": [
    {
     "name": "stdout",
     "output_type": "stream",
     "text": [
      "The most ordered choice_description is are: [Diet Coke]\n"
     ]
    }
   ],
   "source": [
    "print(f\"The most ordered choice_description is are: {most_ordered_choice_description}\") #This displays the result."
   ]
  },
  {
   "cell_type": "code",
   "execution_count": 259,
   "id": "5b6d7a73",
   "metadata": {},
   "outputs": [],
   "source": [
    "total_items_ordered = chipo['quantity'].sum() #Calculates total number of items ordered"
   ]
  },
  {
   "cell_type": "code",
   "execution_count": 260,
   "id": "25569c1b",
   "metadata": {},
   "outputs": [
    {
     "name": "stdout",
     "output_type": "stream",
     "text": [
      "Total number of items ordered: 4972\n"
     ]
    }
   ],
   "source": [
    "print(f\"Total number of items ordered: {total_items_ordered}\") #This displays the result"
   ]
  },
  {
   "cell_type": "code",
   "execution_count": 261,
   "id": "1ff17211",
   "metadata": {},
   "outputs": [],
   "source": [
    "chipo['item_price'] = chipo['item_price'].replace({'\\$': ''}, regex=True).astype(float) ## Removing the dollar sign and converting the 'item_price' column to float"
   ]
  },
  {
   "cell_type": "code",
   "execution_count": 262,
   "id": "5c470c48",
   "metadata": {},
   "outputs": [
    {
     "name": "stdout",
     "output_type": "stream",
     "text": [
      "   order_id  quantity                              item_name  \\\n",
      "0         1         1           Chips and Fresh Tomato Salsa   \n",
      "1         1         1                                   Izze   \n",
      "2         1         1                       Nantucket Nectar   \n",
      "3         1         1  Chips and Tomatillo-Green Chili Salsa   \n",
      "4         2         2                           Chicken Bowl   \n",
      "\n",
      "                                  choice_description  item_price  \n",
      "0                                                NaN        2.39  \n",
      "1                                       [Clementine]        3.39  \n",
      "2                                            [Apple]        3.39  \n",
      "3                                                NaN        2.39  \n",
      "4  [Tomatillo-Red Chili Salsa (Hot), [Black Beans...       16.98  \n"
     ]
    }
   ],
   "source": [
    "print(chipo.head()) #Displays the first few rows to confirm the conversion"
   ]
  },
  {
   "cell_type": "code",
   "execution_count": 263,
   "id": "201b79db",
   "metadata": {},
   "outputs": [
    {
     "name": "stdout",
     "output_type": "stream",
     "text": [
      "The Data type of 'item_price'is: float64\n"
     ]
    }
   ],
   "source": [
    "print(f\"The Data type of 'item_price'is: {chipo['item_price'].dtype}\") #This checks the data type of the 'item price' column"
   ]
  },
  {
   "cell_type": "code",
   "execution_count": 264,
   "id": "a0f96f5b",
   "metadata": {},
   "outputs": [],
   "source": [
    "chipo['item_price'] = chipo['item_price'].apply(lambda x: float(str(x).replace('$', '')))"
   ]
  },
  {
   "cell_type": "code",
   "execution_count": 265,
   "id": "0fdd7dbb",
   "metadata": {},
   "outputs": [
    {
     "name": "stdout",
     "output_type": "stream",
     "text": [
      "   order_id  quantity                              item_name  \\\n",
      "0         1         1           Chips and Fresh Tomato Salsa   \n",
      "1         1         1                                   Izze   \n",
      "2         1         1                       Nantucket Nectar   \n",
      "3         1         1  Chips and Tomatillo-Green Chili Salsa   \n",
      "4         2         2                           Chicken Bowl   \n",
      "\n",
      "                                  choice_description  item_price  \n",
      "0                                                NaN        2.39  \n",
      "1                                       [Clementine]        3.39  \n",
      "2                                            [Apple]        3.39  \n",
      "3                                                NaN        2.39  \n",
      "4  [Tomatillo-Red Chili Salsa (Hot), [Black Beans...       16.98  \n"
     ]
    }
   ],
   "source": [
    "print(chipo.head())"
   ]
  },
  {
   "cell_type": "code",
   "execution_count": 266,
   "id": "8c94c650",
   "metadata": {},
   "outputs": [],
   "source": [
    "chipo['revenue'] = chipo['item_price'] * chipo['quantity'] #Calculating the total revenue"
   ]
  },
  {
   "cell_type": "code",
   "execution_count": 267,
   "id": "1f2b26ec",
   "metadata": {},
   "outputs": [],
   "source": [
    "total_revenue = chipo['revenue'].sum() #Calculating total revenue fo rthe period"
   ]
  },
  {
   "cell_type": "code",
   "execution_count": 268,
   "id": "6e99c155",
   "metadata": {},
   "outputs": [
    {
     "name": "stdout",
     "output_type": "stream",
     "text": [
      "Total revenue for the period: $39237.02\n"
     ]
    }
   ],
   "source": [
    "print(f\"Total revenue for the period: ${total_revenue:.2f}\")"
   ]
  },
  {
   "cell_type": "code",
   "execution_count": 269,
   "id": "30784544",
   "metadata": {},
   "outputs": [],
   "source": [
    "total_orders = chipo['order_id'].nunique() #Counting the number of unique orders"
   ]
  },
  {
   "cell_type": "code",
   "execution_count": 270,
   "id": "2e51a756",
   "metadata": {},
   "outputs": [
    {
     "name": "stdout",
     "output_type": "stream",
     "text": [
      "Total number of orders: 1834\n"
     ]
    }
   ],
   "source": [
    "print(f\"Total number of orders: {total_orders}\") #This displays the result"
   ]
  }
 ],
 "metadata": {
  "kernelspec": {
   "display_name": "Python 3 (ipykernel)",
   "language": "python",
   "name": "python3"
  },
  "language_info": {
   "codemirror_mode": {
    "name": "ipython",
    "version": 3
   },
   "file_extension": ".py",
   "mimetype": "text/x-python",
   "name": "python",
   "nbconvert_exporter": "python",
   "pygments_lexer": "ipython3",
   "version": "3.9.16"
  }
 },
 "nbformat": 4,
 "nbformat_minor": 5
}
