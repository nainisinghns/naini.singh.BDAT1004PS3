{
 "cells": [
  {
   "cell_type": "code",
   "execution_count": 88,
   "id": "a3480c3e",
   "metadata": {},
   "outputs": [],
   "source": [
    "import pandas as pd #Imorting the pandas library and naming the alias as 'pd'."
   ]
  },
  {
   "cell_type": "code",
   "execution_count": 89,
   "id": "1d3d2db6",
   "metadata": {},
   "outputs": [],
   "source": [
    "import numpy as np #Importing the numpy library and naming the alias as 'np'."
   ]
  },
  {
   "cell_type": "code",
   "execution_count": 90,
   "id": "12537fff",
   "metadata": {},
   "outputs": [],
   "source": [
    "url = \"https://raw.githubusercontent.com/justmarkham/DAT8/master/data/u.user\" #It's the URL of the Dataset."
   ]
  },
  {
   "cell_type": "code",
   "execution_count": 91,
   "id": "945538b6",
   "metadata": {},
   "outputs": [],
   "source": [
    "users = pd.read_csv(url, sep='|') #It reads the dataset into pandas dataframe."
   ]
  },
  {
   "cell_type": "code",
   "execution_count": 92,
   "id": "eb5a66ff",
   "metadata": {},
   "outputs": [
    {
     "data": {
      "text/html": [
       "<div>\n",
       "<style scoped>\n",
       "    .dataframe tbody tr th:only-of-type {\n",
       "        vertical-align: middle;\n",
       "    }\n",
       "\n",
       "    .dataframe tbody tr th {\n",
       "        vertical-align: top;\n",
       "    }\n",
       "\n",
       "    .dataframe thead th {\n",
       "        text-align: right;\n",
       "    }\n",
       "</style>\n",
       "<table border=\"1\" class=\"dataframe\">\n",
       "  <thead>\n",
       "    <tr style=\"text-align: right;\">\n",
       "      <th></th>\n",
       "      <th>user_id</th>\n",
       "      <th>age</th>\n",
       "      <th>gender</th>\n",
       "      <th>occupation</th>\n",
       "      <th>zip_code</th>\n",
       "    </tr>\n",
       "  </thead>\n",
       "  <tbody>\n",
       "    <tr>\n",
       "      <th>0</th>\n",
       "      <td>1</td>\n",
       "      <td>24</td>\n",
       "      <td>M</td>\n",
       "      <td>technician</td>\n",
       "      <td>85711</td>\n",
       "    </tr>\n",
       "    <tr>\n",
       "      <th>1</th>\n",
       "      <td>2</td>\n",
       "      <td>53</td>\n",
       "      <td>F</td>\n",
       "      <td>other</td>\n",
       "      <td>94043</td>\n",
       "    </tr>\n",
       "    <tr>\n",
       "      <th>2</th>\n",
       "      <td>3</td>\n",
       "      <td>23</td>\n",
       "      <td>M</td>\n",
       "      <td>writer</td>\n",
       "      <td>32067</td>\n",
       "    </tr>\n",
       "    <tr>\n",
       "      <th>3</th>\n",
       "      <td>4</td>\n",
       "      <td>24</td>\n",
       "      <td>M</td>\n",
       "      <td>technician</td>\n",
       "      <td>43537</td>\n",
       "    </tr>\n",
       "    <tr>\n",
       "      <th>4</th>\n",
       "      <td>5</td>\n",
       "      <td>33</td>\n",
       "      <td>F</td>\n",
       "      <td>other</td>\n",
       "      <td>15213</td>\n",
       "    </tr>\n",
       "  </tbody>\n",
       "</table>\n",
       "</div>"
      ],
      "text/plain": [
       "   user_id  age gender  occupation zip_code\n",
       "0        1   24      M  technician    85711\n",
       "1        2   53      F       other    94043\n",
       "2        3   23      M      writer    32067\n",
       "3        4   24      M  technician    43537\n",
       "4        5   33      F       other    15213"
      ]
     },
     "execution_count": 92,
     "metadata": {},
     "output_type": "execute_result"
    }
   ],
   "source": [
    "users.head() #It displays the first rows of the dataset to ensure it loaded correctly."
   ]
  },
  {
   "cell_type": "code",
   "execution_count": 93,
   "id": "867ab8f5",
   "metadata": {},
   "outputs": [],
   "source": [
    "mean_age = users.groupby('occupation')['age'].mean() #This would group data by 'occupation' and also, calculate the mean of 'age'."
   ]
  },
  {
   "cell_type": "code",
   "execution_count": 94,
   "id": "ca58d045",
   "metadata": {},
   "outputs": [
    {
     "data": {
      "text/plain": [
       "occupation\n",
       "administrator    38.746835\n",
       "artist           31.392857\n",
       "doctor           43.571429\n",
       "educator         42.010526\n",
       "engineer         36.388060\n",
       "entertainment    29.222222\n",
       "executive        38.718750\n",
       "healthcare       41.562500\n",
       "homemaker        32.571429\n",
       "lawyer           36.750000\n",
       "librarian        40.000000\n",
       "marketing        37.615385\n",
       "none             26.555556\n",
       "other            34.523810\n",
       "programmer       33.121212\n",
       "retired          63.071429\n",
       "salesman         35.666667\n",
       "scientist        35.548387\n",
       "student          22.081633\n",
       "technician       33.148148\n",
       "writer           36.311111\n",
       "Name: age, dtype: float64"
      ]
     },
     "execution_count": 94,
     "metadata": {},
     "output_type": "execute_result"
    }
   ],
   "source": [
    "mean_age #This would show the result"
   ]
  },
  {
   "cell_type": "code",
   "execution_count": 95,
   "id": "85964baf",
   "metadata": {},
   "outputs": [],
   "source": [
    "male_ratio = users.groupby('occupation')['gender'].apply(lambda x: (x == 'M').mean()) #Calculating the male ratio per occupation"
   ]
  },
  {
   "cell_type": "code",
   "execution_count": 96,
   "id": "1e89c171",
   "metadata": {},
   "outputs": [],
   "source": [
    "male_ratio = male_ratio.sort_values(ascending=False) #Sorting male ratios in decreasing order"
   ]
  },
  {
   "cell_type": "code",
   "execution_count": 97,
   "id": "7b11d877",
   "metadata": {},
   "outputs": [
    {
     "data": {
      "text/plain": [
       "occupation\n",
       "doctor           1.000000\n",
       "engineer         0.970149\n",
       "technician       0.962963\n",
       "retired          0.928571\n",
       "programmer       0.909091\n",
       "executive        0.906250\n",
       "scientist        0.903226\n",
       "entertainment    0.888889\n",
       "lawyer           0.833333\n",
       "salesman         0.750000\n",
       "educator         0.726316\n",
       "student          0.693878\n",
       "other            0.657143\n",
       "marketing        0.615385\n",
       "writer           0.577778\n",
       "none             0.555556\n",
       "administrator    0.544304\n",
       "artist           0.535714\n",
       "librarian        0.431373\n",
       "healthcare       0.312500\n",
       "homemaker        0.142857\n",
       "Name: gender, dtype: float64"
      ]
     },
     "execution_count": 97,
     "metadata": {},
     "output_type": "execute_result"
    }
   ],
   "source": [
    "male_ratio #This displays the result"
   ]
  },
  {
   "cell_type": "code",
   "execution_count": 98,
   "id": "686801d5",
   "metadata": {},
   "outputs": [],
   "source": [
    "min_max_age = users.groupby('occupation')['age'].agg(['min', 'max']) #Groups data by 'occupation' and calculates the min and max ages."
   ]
  },
  {
   "cell_type": "code",
   "execution_count": 99,
   "id": "06f7543b",
   "metadata": {},
   "outputs": [
    {
     "name": "stdout",
     "output_type": "stream",
     "text": [
      "The Minimum and Maximum Ages Per Occupation are:\n"
     ]
    }
   ],
   "source": [
    "print(\"The Minimum and Maximum Ages Per Occupation are:\") #This displays the result"
   ]
  },
  {
   "cell_type": "code",
   "execution_count": 100,
   "id": "71d502b3",
   "metadata": {},
   "outputs": [
    {
     "name": "stdout",
     "output_type": "stream",
     "text": [
      "               min  max\n",
      "occupation             \n",
      "administrator   21   70\n",
      "artist          19   48\n",
      "doctor          28   64\n",
      "educator        23   63\n",
      "engineer        22   70\n",
      "entertainment   15   50\n",
      "executive       22   69\n",
      "healthcare      22   62\n",
      "homemaker       20   50\n",
      "lawyer          21   53\n",
      "librarian       23   69\n",
      "marketing       24   55\n",
      "none            11   55\n",
      "other           13   64\n",
      "programmer      20   63\n",
      "retired         51   73\n",
      "salesman        18   66\n",
      "scientist       23   55\n",
      "student          7   42\n",
      "technician      21   55\n",
      "writer          18   60\n"
     ]
    }
   ],
   "source": [
    "print(min_max_age) #This displays the result as well."
   ]
  },
  {
   "cell_type": "code",
   "execution_count": 101,
   "id": "7fc5c3f7",
   "metadata": {},
   "outputs": [],
   "source": [
    "mean_age_gender = users.groupby(['occupation', 'gender'])['age'].mean() #This calculates mean age by gender and groups 'occupation'"
   ]
  },
  {
   "cell_type": "code",
   "execution_count": 102,
   "id": "bf4611cc",
   "metadata": {},
   "outputs": [
    {
     "name": "stdout",
     "output_type": "stream",
     "text": [
      "Mean Age Per Occupation and Gender are:\n"
     ]
    }
   ],
   "source": [
    "print(\"Mean Age Per Occupation and Gender are:\") #This displays the result"
   ]
  },
  {
   "cell_type": "code",
   "execution_count": 103,
   "id": "853a8ee2",
   "metadata": {},
   "outputs": [
    {
     "name": "stdout",
     "output_type": "stream",
     "text": [
      "occupation     gender\n",
      "administrator  F         40.638889\n",
      "               M         37.162791\n",
      "artist         F         30.307692\n",
      "               M         32.333333\n",
      "doctor         M         43.571429\n",
      "educator       F         39.115385\n",
      "               M         43.101449\n",
      "engineer       F         29.500000\n",
      "               M         36.600000\n",
      "entertainment  F         31.000000\n",
      "               M         29.000000\n",
      "executive      F         44.000000\n",
      "               M         38.172414\n",
      "healthcare     F         39.818182\n",
      "               M         45.400000\n",
      "homemaker      F         34.166667\n",
      "               M         23.000000\n",
      "lawyer         F         39.500000\n",
      "               M         36.200000\n",
      "librarian      F         40.000000\n",
      "               M         40.000000\n",
      "marketing      F         37.200000\n",
      "               M         37.875000\n",
      "none           F         36.500000\n",
      "               M         18.600000\n",
      "other          F         35.472222\n",
      "               M         34.028986\n",
      "programmer     F         32.166667\n",
      "               M         33.216667\n",
      "retired        F         70.000000\n",
      "               M         62.538462\n",
      "salesman       F         27.000000\n",
      "               M         38.555556\n",
      "scientist      F         28.333333\n",
      "               M         36.321429\n",
      "student        F         20.750000\n",
      "               M         22.669118\n",
      "technician     F         38.000000\n",
      "               M         32.961538\n",
      "writer         F         37.631579\n",
      "               M         35.346154\n",
      "Name: age, dtype: float64\n"
     ]
    }
   ],
   "source": [
    "print(mean_age_gender) #This displays the result as well."
   ]
  },
  {
   "cell_type": "code",
   "execution_count": 104,
   "id": "c1ac00de",
   "metadata": {},
   "outputs": [],
   "source": [
    "gender_counts = users.groupby(['occupation', 'gender']).size().unstack() #Groups data by 'occupation' and 'gender' then counts occurrences as well."
   ]
  },
  {
   "cell_type": "code",
   "execution_count": 105,
   "id": "c5ce6da4",
   "metadata": {},
   "outputs": [],
   "source": [
    "gender_percentage = gender_counts.div(gender_counts.sum(axis=1), axis=0) * 100 #This Calculates the percentage of men and women for each occupation."
   ]
  },
  {
   "cell_type": "code",
   "execution_count": 106,
   "id": "846197e7",
   "metadata": {},
   "outputs": [],
   "source": [
    "gender_percentage.columns = ['Female%', 'Male%'] #This renames the columns"
   ]
  },
  {
   "cell_type": "code",
   "execution_count": 107,
   "id": "3f937bb8",
   "metadata": {},
   "outputs": [
    {
     "name": "stdout",
     "output_type": "stream",
     "text": [
      "The Percentage of Women and Men Per Occupation are:\n"
     ]
    }
   ],
   "source": [
    "print(\"The Percentage of Women and Men Per Occupation are:\") #This displays the result."
   ]
  },
  {
   "cell_type": "code",
   "execution_count": 108,
   "id": "fe5738a3",
   "metadata": {},
   "outputs": [
    {
     "name": "stdout",
     "output_type": "stream",
     "text": [
      "                 Female%       Male%\n",
      "occupation                          \n",
      "administrator  45.569620   54.430380\n",
      "artist         46.428571   53.571429\n",
      "doctor               NaN  100.000000\n",
      "educator       27.368421   72.631579\n",
      "engineer        2.985075   97.014925\n",
      "entertainment  11.111111   88.888889\n",
      "executive       9.375000   90.625000\n",
      "healthcare     68.750000   31.250000\n",
      "homemaker      85.714286   14.285714\n",
      "lawyer         16.666667   83.333333\n",
      "librarian      56.862745   43.137255\n",
      "marketing      38.461538   61.538462\n",
      "none           44.444444   55.555556\n",
      "other          34.285714   65.714286\n",
      "programmer      9.090909   90.909091\n",
      "retired         7.142857   92.857143\n",
      "salesman       25.000000   75.000000\n",
      "scientist       9.677419   90.322581\n",
      "student        30.612245   69.387755\n",
      "technician      3.703704   96.296296\n",
      "writer         42.222222   57.777778\n"
     ]
    }
   ],
   "source": [
    "print(gender_percentage) #This displays the result too."
   ]
  }
 ],
 "metadata": {
  "kernelspec": {
   "display_name": "Python 3 (ipykernel)",
   "language": "python",
   "name": "python3"
  },
  "language_info": {
   "codemirror_mode": {
    "name": "ipython",
    "version": 3
   },
   "file_extension": ".py",
   "mimetype": "text/x-python",
   "name": "python",
   "nbconvert_exporter": "python",
   "pygments_lexer": "ipython3",
   "version": "3.9.16"
  }
 },
 "nbformat": 4,
 "nbformat_minor": 5
}
